{
 "cells": [
  {
   "cell_type": "markdown",
   "id": "c84f0ffa",
   "metadata": {},
   "source": [
    "# this is simple example"
   ]
  },
  {
   "cell_type": "code",
   "execution_count": 1,
   "id": "4565c72b",
   "metadata": {},
   "outputs": [
    {
     "name": "stdout",
     "output_type": "stream",
     "text": [
      "Enter your name:adithi\n",
      "Enter your age:15\n",
      "Enter your marks:90\n",
      "Hello I am : adithi\n",
      "My Age is: 15\n",
      "My Marks are: 90\n"
     ]
    }
   ],
   "source": [
    "# this is our class \n",
    "class Student:\n",
    "  # this is constructor\n",
    "  def __init__(self):\n",
    "    self.name = input(\"Enter your name:\")\n",
    "    self.age = int(input(\"Enter your age:\"))\n",
    "    self.marks = int(input(\"Enter your marks:\"))\n",
    "\n",
    "  # this is method\n",
    "  def show(self):\n",
    "    print(\"Hello I am :\",self.name)\n",
    "    print(\"My Age is:\",self.age)\n",
    "    print(\"My Marks are:\",self.marks)\n",
    "\n",
    "# input for taking data from user side\n",
    "\n",
    "# this is our object\n",
    "obj = Student()\n",
    "obj.show()"
   ]
  },
  {
   "cell_type": "markdown",
   "id": "8238ba6d",
   "metadata": {},
   "source": [
    "# 2nd exmaple with "
   ]
  },
  {
   "cell_type": "code",
   "execution_count": 53,
   "id": "c9b8ad60",
   "metadata": {},
   "outputs": [
    {
     "name": "stdout",
     "output_type": "stream",
     "text": [
      "Enter start_range number: 1\n",
      "Enter stop_range number: 5\n",
      "sum of all given range is: 15\n"
     ]
    }
   ],
   "source": [
    "# strat range = 1\n",
    "# stop range = 15\n",
    "# sum of all 1 to 20 given no : 1,2,3,4,5\n",
    "\n",
    "\n",
    "# n = int(input(\"Enter number\"))\n",
    "# sum = 0\n",
    "# # loop from 1 to n\n",
    "# for num in range(1, n + 1):\n",
    "#     sum = sum + num\n",
    "# print(\"Sum of first \", n, \"numbers is: \", sum)\n",
    "\n",
    "class Add_all_num:\n",
    "    \n",
    "    def __init(self,start_range,stop_range):\n",
    "        self.start_range = start_range\n",
    "        self.stop_range = stop_range\n",
    "      \n",
    "        \n",
    "    def sumss(self):\n",
    "        start_range=int(input(\"Enter start_range number: \"))\n",
    "        stop_range=int(input(\"Enter stop_range number: \"))\n",
    "        self.sum =0 \n",
    "        for i in range(start_range,stop_range+1):\n",
    "            self.sum = self.sum+i\n",
    "            \n",
    "        print(\"sum of all given range is:\",self.sum)\n",
    " \n",
    "\n",
    "s = Add_all_num()\n",
    "s.sumss()\n",
    "    \n",
    "    \n"
   ]
  },
  {
   "cell_type": "markdown",
   "id": "36063502",
   "metadata": {},
   "source": [
    "# this is normal way to find avg "
   ]
  },
  {
   "cell_type": "code",
   "execution_count": 5,
   "id": "291fccb1",
   "metadata": {
    "scrolled": true
   },
   "outputs": [
    {
     "name": "stdout",
     "output_type": "stream",
     "text": [
      "Enter int no with any sep:1,2,3,4,5,6\n",
      "sum of all given no is: 21\n",
      "avg of all given no is: 3.5\n",
      "no of all given element is: 6\n"
     ]
    }
   ],
   "source": [
    "# lists = [1,2,4,4,5,6,6]\n",
    "lists = eval(input(\"Enter int no with any sep:\"))\n",
    "sum = 0\n",
    "for i in lists:\n",
    "  sum = sum+i\n",
    "\n",
    "avg = sum/len(lists)\n",
    "print(\"sum of all given no is:\",sum)\n",
    "print(\"avg of all given no is:\",round(avg,2))\n",
    "print(\"no of all given element is:\",len(lists))\n"
   ]
  },
  {
   "cell_type": "markdown",
   "id": "6b30c555",
   "metadata": {},
   "source": [
    "# find avg of given no using class"
   ]
  },
  {
   "cell_type": "code",
   "execution_count": 19,
   "id": "35516acd",
   "metadata": {},
   "outputs": [],
   "source": [
    "# class Avg:\n",
    "#     def __inti__(self,sum,num):\n",
    "#         self.sum = sum\n",
    "#         self.num = num\n",
    "        \n",
    "#     def sum(self):\n",
    "       \n",
    "#         self.sum = 0\n",
    "#         for i in (self.num):\n",
    "#             self.sum = self.sum+1\n",
    "    \n",
    "#         avg = self.sum/len(self.num)\n",
    "#         print(\"sum of all given no is:\",self.sum)  \n",
    "#         print(\"avg of all given no is:\",self.avg) \n",
    "     \n",
    "        \n",
    "# num = eval(input(\"Enter any int no with any sep:\"))\n",
    "# sum=0\n",
    "# obj1 = Avg(num,sum)\n",
    "# obj1.sum()"
   ]
  },
  {
   "cell_type": "code",
   "execution_count": 22,
   "id": "923a5bc6",
   "metadata": {},
   "outputs": [
    {
     "name": "stdout",
     "output_type": "stream",
     "text": [
      "10\n"
     ]
    }
   ],
   "source": [
    "# deepti : class\n",
    "num = 10\n",
    "print(num)"
   ]
  },
  {
   "cell_type": "code",
   "execution_count": 24,
   "id": "f17b3527",
   "metadata": {},
   "outputs": [
    {
     "name": "stdout",
     "output_type": "stream",
     "text": [
      "your 10 and my 20 is:\n"
     ]
    }
   ],
   "source": [
    "class A:\n",
    "    def __init__(self):\n",
    "        self.deepti = 10\n",
    "        self.jai = 20\n",
    "        \n",
    "    def show(self):  \n",
    "        print(\"your {} and my {} is:\".format(self.deepti,self.jai))\n",
    "        \n",
    "ob = A()\n",
    "ob.show()"
   ]
  },
  {
   "cell_type": "code",
   "execution_count": 25,
   "id": "93f39194",
   "metadata": {},
   "outputs": [
    {
     "name": "stdout",
     "output_type": "stream",
     "text": [
      "your name is deepti\n"
     ]
    }
   ],
   "source": [
    "name = \"deepti\"\n",
    "print(\"your name is {}\".format(name))"
   ]
  },
  {
   "cell_type": "code",
   "execution_count": 35,
   "id": "8cec87ee",
   "metadata": {},
   "outputs": [
    {
     "name": "stdout",
     "output_type": "stream",
     "text": [
      "ISRO\n",
      "ISRO\n",
      "{'a': 10, 'b': 20, 'c': 30, 'd': 40}\n"
     ]
    }
   ],
   "source": [
    "class Test:\n",
    "    collage_name = \"ISRO\"\n",
    "    def __init__(self):\n",
    "        self.a=10\n",
    "        self.b=20\n",
    "        self.c=30\n",
    "        self.d=40\n",
    "\n",
    "# 1st object\n",
    "t1 = Test()\n",
    "\n",
    "# using class name\n",
    "print(Test.collage_name)\n",
    "\n",
    "# using object reference\n",
    "print(t1.collage_name)\n",
    "\n",
    "print(t1.__dict__)"
   ]
  },
  {
   "cell_type": "code",
   "execution_count": null,
   "id": "23cf5a6c",
   "metadata": {},
   "outputs": [],
   "source": []
  }
 ],
 "metadata": {
  "kernelspec": {
   "display_name": "Python 3 (ipykernel)",
   "language": "python",
   "name": "python3"
  },
  "language_info": {
   "codemirror_mode": {
    "name": "ipython",
    "version": 3
   },
   "file_extension": ".py",
   "mimetype": "text/x-python",
   "name": "python",
   "nbconvert_exporter": "python",
   "pygments_lexer": "ipython3",
   "version": "3.7.5"
  }
 },
 "nbformat": 4,
 "nbformat_minor": 5
}
