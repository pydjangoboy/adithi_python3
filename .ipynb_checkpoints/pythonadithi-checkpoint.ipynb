{
 "cells": [
  {
   "cell_type": "markdown",
   "id": "8e52b3d6",
   "metadata": {},
   "source": [
    "## date : 20/04/20221"
   ]
  },
  {
   "cell_type": "markdown",
   "id": "0729b2b1",
   "metadata": {},
   "source": [
    "### Python opps :"
   ]
  },
  {
   "cell_type": "code",
   "execution_count": 5,
   "id": "3bdda2d0",
   "metadata": {},
   "outputs": [
    {
     "name": "stdout",
     "output_type": "stream",
     "text": [
      "hellow world\n"
     ]
    }
   ],
   "source": [
    "a =10\n",
    "b= 20\n",
    "class Add:\n",
    "    pass\n",
    "print(\"hellow world\")"
   ]
  },
  {
   "cell_type": "code",
   "execution_count": 8,
   "id": "ff949dda",
   "metadata": {},
   "outputs": [
    {
     "name": "stdout",
     "output_type": "stream",
     "text": [
      "this is comming from class A\n",
      "this is comming from class B \n",
      "this is comming from class C \n"
     ]
    }
   ],
   "source": [
    "class A:\n",
    "    print(\"this is comming from class A\")\n",
    "   \n",
    "class B(A):\n",
    "    print(\"this is comming from class B \")\n",
    "\n",
    "class C(B):\n",
    "    print(\"this is comming from class C \")\n",
    "\n",
    "\n",
    "x = C()\n",
    "\n",
    "\n",
    "\n"
   ]
  },
  {
   "cell_type": "code",
   "execution_count": 10,
   "id": "89d153a1",
   "metadata": {},
   "outputs": [
    {
     "name": "stdout",
     "output_type": "stream",
     "text": [
      "this is comming from class A\n",
      "a value is: 10\n",
      "a is oustside of the class: 10\n"
     ]
    }
   ],
   "source": [
    "class A:\n",
    "    a = 10\n",
    "    def __init__(self):\n",
    "        print(\"this is comming from class A\")\n",
    "        print(\"this is within the class is:\",self.a)\n",
    "\n",
    "x = A() \n",
    "print(\" oustside of the class 1 :\",A.a)  \n",
    "print(\" oustside of the class 2:\",x.a)      "
   ]
  },
  {
   "cell_type": "code",
   "execution_count": 23,
   "id": "8dacc87e",
   "metadata": {},
   "outputs": [
    {
     "name": "stdout",
     "output_type": "stream",
     "text": [
      "sum of all int no is : 16\n",
      "avg of all int no is : 3.2\n"
     ]
    }
   ],
   "source": [
    "# avg  using for loop\n",
    "# 10 int no avg program  \n",
    "# sum = 1,2,3,4,5...10 ===> 55\n",
    "# avg = sum/len(ele) ==> 55/10 == 5.5\n",
    "\n",
    "sum = 0\n",
    "num = eval(input(\"Enter any int no with comma :\")) # 1,2,3,4,5,6,7,8,9,10\n",
    "for i in num:\n",
    "    sum = sum+i\n",
    "avg = sum/len(num)\n",
    "\n",
    "print(\"sum of all int no is :\",sum)\n",
    "print(\"avg of all int no is :\",avg)\n"
   ]
  },
  {
   "cell_type": "code",
   "execution_count": 32,
   "id": "dc80d33f",
   "metadata": {},
   "outputs": [
    {
     "name": "stdout",
     "output_type": "stream",
     "text": [
      "hlo world\n"
     ]
    }
   ],
   "source": [
    "print(\"hlo world\")"
   ]
  },
  {
   "cell_type": "code",
   "execution_count": 35,
   "id": "d16041d9",
   "metadata": {},
   "outputs": [
    {
     "name": "stdout",
     "output_type": "stream",
     "text": [
      "sum of all given no is: 27\n",
      "avg of all given no is: 3.857142857142857\n",
      "no of all given element is: 7\n"
     ]
    }
   ],
   "source": [
    "\n",
    "# lists = [1,2,4,4,5,6,6]\n",
    "lists = eval(input(\"Enter int no with any sep:\"))\n",
    "sum = 0\n",
    "for i in lists:\n",
    "  sum = sum+i\n",
    "\n",
    "avg = sum/len(lists)\n",
    "print(\"sum of all given no is:\",sum)\n",
    "print(\"avg of all given no is:\",avg)\n",
    "print(\"no of all given element is:\",len(lists))\n"
   ]
  },
  {
   "cell_type": "code",
   "execution_count": 1,
   "id": "39e05a55",
   "metadata": {},
   "outputs": [
    {
     "name": "stdout",
     "output_type": "stream",
     "text": [
      "Welcome to  Deepti Bank\n"
     ]
    },
    {
     "ename": "KeyboardInterrupt",
     "evalue": "Interrupted by user",
     "output_type": "error",
     "traceback": [
      "\u001b[0;31m---------------------------------------------------------------------------\u001b[0m",
      "\u001b[0;31mKeyboardInterrupt\u001b[0m                         Traceback (most recent call last)",
      "\u001b[0;32m/var/folders/7j/df6vc3rd7hd0zcqn426xbscr0000gn/T/ipykernel_4538/1816179715.py\u001b[0m in \u001b[0;36m<module>\u001b[0;34m\u001b[0m\n\u001b[1;32m     42\u001b[0m \u001b[0;34m\u001b[0m\u001b[0m\n\u001b[1;32m     43\u001b[0m \u001b[0mprint\u001b[0m\u001b[0;34m(\u001b[0m\u001b[0;34m\"Welcome to \"\u001b[0m\u001b[0;34m,\u001b[0m\u001b[0mBankApp\u001b[0m\u001b[0;34m.\u001b[0m\u001b[0mbank_name\u001b[0m\u001b[0;34m)\u001b[0m\u001b[0;34m\u001b[0m\u001b[0;34m\u001b[0m\u001b[0m\n\u001b[0;32m---> 44\u001b[0;31m \u001b[0mname\u001b[0m \u001b[0;34m=\u001b[0m \u001b[0minput\u001b[0m\u001b[0;34m(\u001b[0m\u001b[0;34m\"Enter your Name:\"\u001b[0m\u001b[0;34m)\u001b[0m\u001b[0;34m\u001b[0m\u001b[0;34m\u001b[0m\u001b[0m\n\u001b[0m\u001b[1;32m     45\u001b[0m \u001b[0mc\u001b[0m \u001b[0;34m=\u001b[0m \u001b[0mBankApp\u001b[0m\u001b[0;34m(\u001b[0m\u001b[0mname\u001b[0m\u001b[0;34m)\u001b[0m\u001b[0;34m\u001b[0m\u001b[0;34m\u001b[0m\u001b[0m\n",
      "\u001b[0;32m/Library/Frameworks/Python.framework/Versions/3.7/lib/python3.7/site-packages/ipykernel/kernelbase.py\u001b[0m in \u001b[0;36mraw_input\u001b[0;34m(self, prompt)\u001b[0m\n\u001b[1;32m   1077\u001b[0m             \u001b[0mself\u001b[0m\u001b[0;34m.\u001b[0m\u001b[0m_parent_ident\u001b[0m\u001b[0;34m[\u001b[0m\u001b[0;34m\"shell\"\u001b[0m\u001b[0;34m]\u001b[0m\u001b[0;34m,\u001b[0m\u001b[0;34m\u001b[0m\u001b[0;34m\u001b[0m\u001b[0m\n\u001b[1;32m   1078\u001b[0m             \u001b[0mself\u001b[0m\u001b[0;34m.\u001b[0m\u001b[0mget_parent\u001b[0m\u001b[0;34m(\u001b[0m\u001b[0;34m\"shell\"\u001b[0m\u001b[0;34m)\u001b[0m\u001b[0;34m,\u001b[0m\u001b[0;34m\u001b[0m\u001b[0;34m\u001b[0m\u001b[0m\n\u001b[0;32m-> 1079\u001b[0;31m             \u001b[0mpassword\u001b[0m\u001b[0;34m=\u001b[0m\u001b[0;32mFalse\u001b[0m\u001b[0;34m,\u001b[0m\u001b[0;34m\u001b[0m\u001b[0;34m\u001b[0m\u001b[0m\n\u001b[0m\u001b[1;32m   1080\u001b[0m         )\n\u001b[1;32m   1081\u001b[0m \u001b[0;34m\u001b[0m\u001b[0m\n",
      "\u001b[0;32m/Library/Frameworks/Python.framework/Versions/3.7/lib/python3.7/site-packages/ipykernel/kernelbase.py\u001b[0m in \u001b[0;36m_input_request\u001b[0;34m(self, prompt, ident, parent, password)\u001b[0m\n\u001b[1;32m   1118\u001b[0m             \u001b[0;32mexcept\u001b[0m \u001b[0mKeyboardInterrupt\u001b[0m\u001b[0;34m:\u001b[0m\u001b[0;34m\u001b[0m\u001b[0;34m\u001b[0m\u001b[0m\n\u001b[1;32m   1119\u001b[0m                 \u001b[0;31m# re-raise KeyboardInterrupt, to truncate traceback\u001b[0m\u001b[0;34m\u001b[0m\u001b[0;34m\u001b[0m\u001b[0;34m\u001b[0m\u001b[0m\n\u001b[0;32m-> 1120\u001b[0;31m                 \u001b[0;32mraise\u001b[0m \u001b[0mKeyboardInterrupt\u001b[0m\u001b[0;34m(\u001b[0m\u001b[0;34m\"Interrupted by user\"\u001b[0m\u001b[0;34m)\u001b[0m \u001b[0;32mfrom\u001b[0m \u001b[0;32mNone\u001b[0m\u001b[0;34m\u001b[0m\u001b[0;34m\u001b[0m\u001b[0m\n\u001b[0m\u001b[1;32m   1121\u001b[0m             \u001b[0;32mexcept\u001b[0m \u001b[0mException\u001b[0m\u001b[0;34m:\u001b[0m\u001b[0;34m\u001b[0m\u001b[0;34m\u001b[0m\u001b[0m\n\u001b[1;32m   1122\u001b[0m                 \u001b[0mself\u001b[0m\u001b[0;34m.\u001b[0m\u001b[0mlog\u001b[0m\u001b[0;34m.\u001b[0m\u001b[0mwarning\u001b[0m\u001b[0;34m(\u001b[0m\u001b[0;34m\"Invalid Message:\"\u001b[0m\u001b[0;34m,\u001b[0m \u001b[0mexc_info\u001b[0m\u001b[0;34m=\u001b[0m\u001b[0;32mTrue\u001b[0m\u001b[0;34m)\u001b[0m\u001b[0;34m\u001b[0m\u001b[0;34m\u001b[0m\u001b[0m\n",
      "\u001b[0;31mKeyboardInterrupt\u001b[0m: Interrupted by user"
     ]
    }
   ],
   "source": [
    "\"\"\"\n",
    "want to make one Bank ---> \n",
    "    bank name is adithi bank\n",
    "    d-Deposit ---> d or D\n",
    "    w-Withdraw ---> w or W\n",
    "    e-exit ---> e or E\n",
    "\n",
    "\"\"\"\n",
    "\n",
    "\"\"\" Task:\n",
    "want to make one Bank :\n",
    "\n",
    "    1. bank name is:  Deepti Bank\n",
    "    2. d-Deposit ---> d or D\n",
    "    3. w-Withdraw ---> w or W\n",
    "    4. e-exit ---> e or E\n",
    "\n",
    "\"\"\"\n",
    "import sys\n",
    "class BankApp: # this is our class\n",
    "    bank_name = \"Deepti Bank\" # this is our bank name \n",
    "    # this is constructor\n",
    "    def __init__(self,name,balance=0):\n",
    "        self.name = name\n",
    "        self.balance = balance\n",
    "\n",
    "    # this is deposit mehtod\n",
    "    def deposit(self,amt):\n",
    "        self.balance = self.balance + amt  # this for showing deposit money\n",
    "        print('Balance after deposit:',self.balance)\n",
    "\n",
    "\n",
    "    # this is withdraw mehtod\n",
    "    def withdraw(self,amt):\n",
    "        if amt > self.balance:\n",
    "            print('Insufficient Funds..cannot perform this operation')\n",
    "            sys.exit()\n",
    "        else:\n",
    "            self.balance = self.balance - amt\n",
    "            print('Balance after withdraw:',self.balance) \n",
    "\n",
    "\n",
    "print(\"Welcome to \",BankApp.bank_name)\n",
    "name = input(\"Enter your Name:\")\n",
    "c = BankApp(name)"
   ]
  },
  {
   "cell_type": "code",
   "execution_count": null,
   "id": "3f7f0bb0",
   "metadata": {},
   "outputs": [],
   "source": [
    "\"\"\"\n",
    "90 ---> A grade\n",
    "80 ---> b grade\n",
    "70 ---> c grade\n",
    "60 ---> d grade\n",
    "50 ---> fail\n",
    "\n",
    "u have to take input from user side\n",
    "name --> \n",
    "marks -->\n",
    "print message --->\n",
    "\n",
    "\"\"\""
   ]
  },
  {
   "cell_type": "code",
   "execution_count": 4,
   "id": "5d433e1e",
   "metadata": {},
   "outputs": [
    {
     "name": "stdout",
     "output_type": "stream",
     "text": [
      "Enter number of subjcet: 3\n",
      "Enter your subject name:hindi\n",
      "Enter your subject marks: 10\n",
      "Enter your subject name:english\n",
      "Enter your subject marks: 20\n",
      "Enter your subject name:math\n",
      "Enter your subject marks: 30\n",
      "your subject name is:['hindi', 'english', 'math'] and marks is:[10, 20, 30]\n",
      "{'hindi': 10, 'english': 20, 'math': 30}\n",
      "Average of all subject marks:  20.0\n"
     ]
    }
   ],
   "source": [
    "no_of_subject=int(input(\"Enter number of subjcet: \"))\n",
    "subject=[]\n",
    "marks=[]\n",
    "for i in range(0,no_of_subject):\n",
    "    inp = input(\"Enter your subject name:\")\n",
    "    subject.append(inp)\n",
    "    \n",
    "    inp2=int(input(\"Enter your subject marks: \"))\n",
    "    marks.append(inp2)\n",
    "avg=sum(marks)/no_of_subject\n",
    "# zip Method : Using zip()\n",
    "print(dict(zip(subject, marks)))\n",
    "print(\"Average of all subject marks: \",round(avg,2)) \n"
   ]
  },
  {
   "cell_type": "code",
   "execution_count": 5,
   "id": "d9b770f7",
   "metadata": {},
   "outputs": [
    {
     "name": "stdout",
     "output_type": "stream",
     "text": [
      "Enter number of subjcet: 3\n",
      "Enter your subject name:hindi\n",
      "Enter your subject marks:80\n",
      "Enter your subject name:english\n",
      "Enter your subject marks:50\n",
      "Enter your subject name:science\n",
      "Enter your subject marks:90\n",
      "your subject and marks: {'hindi': 80, 'english': 50, 'science': 90} Average of all subject marks:  73.33\n",
      "hindi -> 80\n",
      "english -> 50\n",
      "science -> 90\n"
     ]
    }
   ],
   "source": [
    "no_of_subject=int(input(\"Enter number of subjcet: \"))\n",
    "subject=[]\n",
    "marks=[]\n",
    "for i in range(0,no_of_subject):\n",
    "    inp = input(\"Enter your subject name:\")\n",
    "    subject.append(inp)\n",
    "\n",
    "    inp2 = int(input(\"Enter your subject marks:\"))\n",
    "    marks.append(inp2)\n",
    "\n",
    "avg=sum(marks)/no_of_subject\n",
    "\n",
    "# zip Method : Using zip()\n",
    "print(\"your subject and marks:\",dict(zip(subject, marks))\n",
    "print(\"Average of all subject marks: \",round(avg,2)) \n",
    "      \n",
    "      \n",
    "# printing sub and marks sep using sep       \n",
    "d = dict(zip(subject, marks))\n",
    "for subject, marks in d.items():\n",
    "    print(subject, marks, sep=\" -> \")\n",
    "      "
   ]
  },
  {
   "cell_type": "markdown",
   "id": "02c5e39a",
   "metadata": {},
   "source": [
    "Using zip() :\n",
    "\n",
    "Most pythonic and generic method to perform this very task is by using zip(). \n",
    "\n",
    "This function pairs the list element with other list element at corresponding index in form of key-value pairs."
   ]
  },
  {
   "cell_type": "code",
   "execution_count": 1,
   "id": "1a9c68e9",
   "metadata": {},
   "outputs": [
    {
     "name": "stdout",
     "output_type": "stream",
     "text": [
      "+++++++++++++++++++++++++++++\n",
      "Welcome to XYZ public school\n",
      "+++++++++++++++++++++++++++++\n",
      "Enter your name:jai\n",
      "your name is : jai\n",
      "+++++++++++++++++++++++++++++\n",
      "Enter number of subjcet: 4\n",
      "+++++++++++++++++++++++++++++\n",
      "Enter your subject name:hinid\n",
      "Enter your subject marks:89\n",
      "Enter your subject name:english\n",
      "Enter your subject marks:90\n",
      "Enter your subject name:math\n",
      "Enter your subject marks:70\n",
      "Enter your subject name:french\n",
      "Enter your subject marks:80\n",
      "+++++++++++++++++++++++++++++\n",
      "your subject and marks: {'hinid': 89, 'english': 90, 'math': 70, 'french': 80}\n",
      "Average of all subject marks:  82.25\n",
      "B grade\n"
     ]
    }
   ],
   "source": [
    "class Grade: # this is class name\n",
    "    #this is constructor for definig variable\n",
    "    school_name = \"XYZ public school\" # static variable\n",
    "    \n",
    "    def __init__(self,name):\n",
    "        self.name=name   \n",
    "        \n",
    "    # this is method for displying message    \n",
    "    def display(self):\n",
    "        print(\"your name is :\",self.name)\n",
    "        print(\"+++++++++++++++++++++++++++++\")    \n",
    "            \n",
    "    def avg_of_all_subject(self):\n",
    "        \n",
    "        no_of_subject=int(input(\"Enter number of subjcet: \"))\n",
    "        print(\"+++++++++++++++++++++++++++++\") \n",
    "        \n",
    "        subject=[]\n",
    "        marks=[]\n",
    "        for i in range(0,no_of_subject):\n",
    "            inp = input(\"Enter your subject name:\")\n",
    "            subject.append(inp)\n",
    "\n",
    "            inp2 = int(input(\"Enter your subject marks:\"))\n",
    "            marks.append(inp2)\n",
    "        print(\"+++++++++++++++++++++++++++++\")    \n",
    "\n",
    "        self.avg=sum(marks)/no_of_subject\n",
    "        \n",
    "        # zip function using for combining two list as a dict\n",
    "        print(\"your subject and marks:\",dict(zip(subject, marks)))\n",
    "        print(\"Average of all subject marks: \",round(self.avg,2)) \n",
    "\n",
    "     # this is method for defing our logic here    \n",
    "    def grade(self):\n",
    "        if self.avg >= 90:\n",
    "            print(\"A grade\")\n",
    "        elif self.avg  >= 80:\n",
    "            print(\"B grade\")\n",
    "        elif self.avg  >= 70:\n",
    "            print(\"C grade\")\n",
    "        elif self.avg  >= 60:\n",
    "            print(\"D grade\")\n",
    "        else:\n",
    "            print(\"hey you failed your marks is very less\")\n",
    "            \n",
    "print(\"+++++++++++++++++++++++++++++\")            \n",
    "print(\"Welcome to\",Grade.school_name)\n",
    "print(\"+++++++++++++++++++++++++++++\") \n",
    "\n",
    "name = input(\"Enter your name:\")        \n",
    "x = Grade(name)\n",
    "x.display()\n",
    "x.avg_of_all_subject()\n",
    "x.grade()\n",
    "print(\"+++++++++++++++++++++++++++++\") "
   ]
  },
  {
   "cell_type": "code",
   "execution_count": null,
   "id": "71256de9",
   "metadata": {},
   "outputs": [],
   "source": []
  }
 ],
 "metadata": {
  "interpreter": {
   "hash": "aee8b7b246df8f9039afb4144a1f6fd8d2ca17a180786b69acc140d282b71a49"
  },
  "kernelspec": {
   "display_name": "Python 3 (ipykernel)",
   "language": "python",
   "name": "python3"
  },
  "language_info": {
   "codemirror_mode": {
    "name": "ipython",
    "version": 3
   },
   "file_extension": ".py",
   "mimetype": "text/x-python",
   "name": "python",
   "nbconvert_exporter": "python",
   "pygments_lexer": "ipython3",
   "version": "3.7.5"
  },
  "varInspector": {
   "cols": {
    "lenName": 16,
    "lenType": 16,
    "lenVar": 40
   },
   "kernels_config": {
    "python": {
     "delete_cmd_postfix": "",
     "delete_cmd_prefix": "del ",
     "library": "var_list.py",
     "varRefreshCmd": "print(var_dic_list())"
    },
    "r": {
     "delete_cmd_postfix": ") ",
     "delete_cmd_prefix": "rm(",
     "library": "var_list.r",
     "varRefreshCmd": "cat(var_dic_list()) "
    }
   },
   "types_to_exclude": [
    "module",
    "function",
    "builtin_function_or_method",
    "instance",
    "_Feature"
   ],
   "window_display": false
  }
 },
 "nbformat": 4,
 "nbformat_minor": 5
}
